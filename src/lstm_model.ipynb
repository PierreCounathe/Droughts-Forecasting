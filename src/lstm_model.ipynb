{
 "cells": [
  {
   "cell_type": "markdown",
   "metadata": {
    "pycharm": {
     "name": "#%% md\n"
    }
   },
   "source": [
    "# LSTM\n"
   ]
  },
  {
   "cell_type": "code",
   "execution_count": 1,
   "metadata": {
    "_kg_hide-input": false,
    "pycharm": {
     "name": "#%%\n"
    },
    "tags": []
   },
   "outputs": [],
   "source": [
    "import json\n",
    "import os\n",
    "from datetime import datetime\n",
    "import time\n",
    "\n",
    "import numpy as np\n",
    "import pandas as pd\n",
    "import torch\n",
    "from scipy.interpolate import interp1d\n",
    "from sklearn.metrics import f1_score\n",
    "from sklearn.metrics import mean_absolute_error\n",
    "from sklearn.preprocessing import RobustScaler\n",
    "from torch import nn\n",
    "from torch.utils.data import DataLoader, TensorDataset\n",
    "from tqdm.auto import tqdm\n",
    "from tqdm.notebook import tqdm_notebook\n",
    "\n",
    "import preprocessing\n",
    "import process_outputs\n",
    "import constants\n",
    "import lstm"
   ]
  },
  {
   "cell_type": "markdown",
   "metadata": {},
   "source": [
    "# Import data"
   ]
  },
  {
   "cell_type": "code",
   "execution_count": 2,
   "metadata": {},
   "outputs": [
    {
     "name": "stdout",
     "output_type": "stream",
     "text": [
      "Loading existing clean soil data\n"
     ]
    }
   ],
   "source": [
    "train_timeseries_low_dim_2 = preprocessing.get_lower_dimension_2(\"train\")\n",
    "val_timeseries_low_dim_2 = preprocessing.get_lower_dimension_2(\"validation\")\n",
    "soil_data = preprocessing.load_clean_data(\"soil\")"
   ]
  },
  {
   "cell_type": "markdown",
   "metadata": {},
   "source": [
    "# Data Preprocessing\n",
    "\n",
    "We format the data in a 3D tensor, so that it can be processed by our LSTM model."
   ]
  },
  {
   "cell_type": "code",
   "execution_count": 3,
   "metadata": {
    "pycharm": {
     "name": "#%%\n"
    },
    "tags": []
   },
   "outputs": [
    {
     "name": "stderr",
     "output_type": "stream",
     "text": [
      "100%|██████████| 3059/3059 [08:24<00:00,  6.06it/s]\n",
      "100%|██████████| 3059/3059 [00:46<00:00, 66.38it/s]\n",
      "100%|██████████| 9/9 [00:10<00:00,  1.19s/it]\n",
      "100%|██████████| 30/30 [00:00<00:00, 241.41it/s]\n",
      "100%|██████████| 9/9 [00:00<00:00, 35.93it/s]\n",
      "100%|██████████| 30/30 [00:00<00:00, 7988.64it/s]\n"
     ]
    }
   ],
   "source": [
    "X_time_train, X_static_train, y_target_train = preprocessing.transform_data_3d(train_timeseries_low_dim_2, soil_data)\n",
    "X_time_valid, X_static_valid, y_target_valid = preprocessing.transform_data_3d(val_timeseries_low_dim_2, soil_data)\n",
    "\n",
    "X_time_train, X_static_train, scaler_dict, scaler_dict_static = preprocessing.normalize(X_static_train, X_time_train, fit=True)\n",
    "X_time_valid, X_static_valid = preprocessing.normalize(X_static_valid, X_time_valid, scaler_dict, scaler_dict_static)"
   ]
  },
  {
   "cell_type": "code",
   "execution_count": 4,
   "metadata": {},
   "outputs": [],
   "source": [
    "# Data and task parameters\n",
    "output_weeks = 6\n",
    "batch_size = 128\n",
    "\n",
    "train_data = TensorDataset(\n",
    "    torch.tensor(X_time_train),\n",
    "    torch.tensor(X_static_train),\n",
    "    torch.tensor(y_target_train[:, :output_weeks]),\n",
    ")\n",
    "train_loader = DataLoader(\n",
    "    train_data, shuffle=True, batch_size=batch_size, drop_last=False\n",
    ")\n",
    "valid_data = TensorDataset(\n",
    "    torch.tensor(X_time_valid),\n",
    "    torch.tensor(X_static_valid),\n",
    "    torch.tensor(y_target_valid[:, :output_weeks]),\n",
    ")\n",
    "valid_loader = DataLoader(\n",
    "    valid_data, shuffle=False, batch_size=batch_size, drop_last=False\n",
    ")"
   ]
  },
  {
   "cell_type": "markdown",
   "metadata": {
    "pycharm": {
     "name": "#%% md\n"
    }
   },
   "source": [
    "# LSTM Parameters"
   ]
  },
  {
   "cell_type": "code",
   "execution_count": 5,
   "metadata": {
    "pycharm": {
     "name": "#%%\n"
    },
    "tags": []
   },
   "outputs": [
    {
     "name": "stdout",
     "output_type": "stream",
     "text": [
      "Device:  cuda:0\n"
     ]
    }
   ],
   "source": [
    "# Model parameters\n",
    "hidden_dim = 512\n",
    "n_layers = 2\n",
    "ffnn_layers = 2\n",
    "dropout = 0.1\n",
    "lr = 7e-5\n",
    "epochs = 10\n",
    "clip = 5\n",
    "\n",
    "device = constants.DEVICE\n",
    "print(\"Device: \", device)"
   ]
  },
  {
   "cell_type": "markdown",
   "metadata": {},
   "source": [
    "# Define and train the model"
   ]
  },
  {
   "cell_type": "code",
   "execution_count": 6,
   "metadata": {
    "pycharm": {
     "name": "#%%\n"
    },
    "tags": []
   },
   "outputs": [
    {
     "data": {
      "application/vnd.jupyter.widget-view+json": {
       "model_id": "9fe5088dd0a84a378a490ae5744af661",
       "version_major": 2,
       "version_minor": 0
      },
      "text/plain": [
       "  0%|          | 0/10 [00:00<?, ?it/s]"
      ]
     },
     "metadata": {},
     "output_type": "display_data"
    },
    {
     "data": {
      "application/vnd.jupyter.widget-view+json": {
       "model_id": "a17c8d4bd37b46cea1743c72b8460424",
       "version_major": 2,
       "version_minor": 0
      },
      "text/plain": [
       "epoch 1/10:   0%|          | 0/796 [00:00<?, ?it/s]"
      ]
     },
     "metadata": {},
     "output_type": "display_data"
    },
    {
     "name": "stdout",
     "output_type": "stream",
     "text": [
      "Epoch 0 Validation loss decreased (inf --> 0.481613).  Saving model ...\n",
      "Epoch 0 Validation loss decreased (0.481613 --> 0.255732).  Saving model ...\n"
     ]
    },
    {
     "data": {
      "application/vnd.jupyter.widget-view+json": {
       "model_id": "c69c240ecea340ed969b549e419d36ee",
       "version_major": 2,
       "version_minor": 0
      },
      "text/plain": [
       "epoch 2/10:   0%|          | 0/796 [00:00<?, ?it/s]"
      ]
     },
     "metadata": {},
     "output_type": "display_data"
    },
    {
     "name": "stdout",
     "output_type": "stream",
     "text": [
      "Epoch 1 Validation loss decreased (0.255732 --> 0.247862).  Saving model ...\n",
      "Epoch 1 Validation loss decreased (0.247862 --> 0.236458).  Saving model ...\n"
     ]
    },
    {
     "data": {
      "application/vnd.jupyter.widget-view+json": {
       "model_id": "56e080194b7f463c8ae7fce8cccb17a6",
       "version_major": 2,
       "version_minor": 0
      },
      "text/plain": [
       "epoch 3/10:   0%|          | 0/796 [00:00<?, ?it/s]"
      ]
     },
     "metadata": {},
     "output_type": "display_data"
    },
    {
     "name": "stdout",
     "output_type": "stream",
     "text": [
      "Epoch 2 Validation loss decreased (0.236458 --> 0.231674).  Saving model ...\n",
      "Epoch 2 Validation loss decreased (0.231674 --> 0.226433).  Saving model ...\n"
     ]
    },
    {
     "data": {
      "application/vnd.jupyter.widget-view+json": {
       "model_id": "6a93e7c6eebe46548a6126b552d42286",
       "version_major": 2,
       "version_minor": 0
      },
      "text/plain": [
       "epoch 4/10:   0%|          | 0/796 [00:00<?, ?it/s]"
      ]
     },
     "metadata": {},
     "output_type": "display_data"
    },
    {
     "name": "stdout",
     "output_type": "stream",
     "text": [
      "Epoch 3 Validation loss decreased (0.226433 --> 0.220293).  Saving model ...\n"
     ]
    },
    {
     "data": {
      "application/vnd.jupyter.widget-view+json": {
       "model_id": "351a504c48524d7587d428198854657a",
       "version_major": 2,
       "version_minor": 0
      },
      "text/plain": [
       "epoch 5/10:   0%|          | 0/796 [00:00<?, ?it/s]"
      ]
     },
     "metadata": {},
     "output_type": "display_data"
    },
    {
     "name": "stdout",
     "output_type": "stream",
     "text": [
      "Epoch 4 Validation loss decreased (0.220293 --> 0.216926).  Saving model ...\n"
     ]
    },
    {
     "data": {
      "application/vnd.jupyter.widget-view+json": {
       "model_id": "d17ef04784ba41729f4584c78509055b",
       "version_major": 2,
       "version_minor": 0
      },
      "text/plain": [
       "epoch 6/10:   0%|          | 0/796 [00:00<?, ?it/s]"
      ]
     },
     "metadata": {},
     "output_type": "display_data"
    },
    {
     "name": "stdout",
     "output_type": "stream",
     "text": [
      "Epoch 5 Validation loss decreased (0.216926 --> 0.214983).  Saving model ...\n"
     ]
    },
    {
     "data": {
      "application/vnd.jupyter.widget-view+json": {
       "model_id": "e986179de9d645638318f8b7593c78cd",
       "version_major": 2,
       "version_minor": 0
      },
      "text/plain": [
       "epoch 7/10:   0%|          | 0/796 [00:00<?, ?it/s]"
      ]
     },
     "metadata": {},
     "output_type": "display_data"
    },
    {
     "name": "stdout",
     "output_type": "stream",
     "text": [
      "Epoch 6 Validation loss decreased (0.214983 --> 0.212215).  Saving model ...\n"
     ]
    },
    {
     "data": {
      "application/vnd.jupyter.widget-view+json": {
       "model_id": "d2f384b22f904631919d9a1e87ad35f3",
       "version_major": 2,
       "version_minor": 0
      },
      "text/plain": [
       "epoch 8/10:   0%|          | 0/796 [00:00<?, ?it/s]"
      ]
     },
     "metadata": {},
     "output_type": "display_data"
    },
    {
     "name": "stdout",
     "output_type": "stream",
     "text": [
      "Epoch 7 Validation loss decreased (0.212215 --> 0.212215).  Saving model ...\n",
      "Epoch 7 Validation loss decreased (0.212215 --> 0.212076).  Saving model ...\n"
     ]
    },
    {
     "data": {
      "application/vnd.jupyter.widget-view+json": {
       "model_id": "893eda45a3b245e0878751eba6da7a42",
       "version_major": 2,
       "version_minor": 0
      },
      "text/plain": [
       "epoch 9/10:   0%|          | 0/796 [00:00<?, ?it/s]"
      ]
     },
     "metadata": {},
     "output_type": "display_data"
    },
    {
     "name": "stdout",
     "output_type": "stream",
     "text": [
      "Epoch 8 Validation loss decreased (0.212076 --> 0.210606).  Saving model ...\n"
     ]
    },
    {
     "data": {
      "application/vnd.jupyter.widget-view+json": {
       "model_id": "c9ef25ec94b949ac9c00f7c7d3338e6f",
       "version_major": 2,
       "version_minor": 0
      },
      "text/plain": [
       "epoch 10/10:   0%|          | 0/796 [00:00<?, ?it/s]"
      ]
     },
     "metadata": {},
     "output_type": "display_data"
    },
    {
     "name": "stdout",
     "output_type": "stream",
     "text": [
      "Epoch 9 Validation loss decreased (0.210606 --> 0.210496).  Saving model ...\n",
      "Model trained on 10 epochs in 21 minutes.\n"
     ]
    }
   ],
   "source": [
    "chrono_start = time.time()\n",
    "\n",
    "static_dim = X_static_train.shape[-1]\n",
    "model = lstm.DroughtNetLSTM(\n",
    "    output_weeks,\n",
    "    X_time_train.shape[-1],\n",
    "    hidden_dim,\n",
    "    n_layers,\n",
    "    ffnn_layers,\n",
    "    dropout,\n",
    "    static_dim,\n",
    ").to(device)\n",
    "\n",
    "loss_function = nn.MSELoss()\n",
    "optimizer = torch.optim.AdamW(model.parameters(), lr=lr)\n",
    "scheduler = torch.optim.lr_scheduler.OneCycleLR(\n",
    "    optimizer, max_lr=lr, steps_per_epoch=len(train_loader), epochs=epochs\n",
    ")\n",
    "\n",
    "counter = 0\n",
    "valid_loss_min = np.Inf\n",
    "torch.manual_seed(42)\n",
    "np.random.seed(42)\n",
    "for i in tqdm(range(epochs)):\n",
    "    h = model.init_hidden(batch_size)\n",
    "\n",
    "    for k, (inputs, static, labels) in tqdm(\n",
    "        enumerate(train_loader),\n",
    "        desc=f\"epoch {i+1}/{epochs}\",\n",
    "        total=len(train_loader),\n",
    "    ):\n",
    "        model.train()\n",
    "        counter += 1\n",
    "        if len(inputs) < batch_size:\n",
    "            h = model.init_hidden(len(inputs))\n",
    "        h = tuple([e.data for e in h])\n",
    "        inputs, labels, static = (\n",
    "            inputs.to(device),\n",
    "            labels.to(device),\n",
    "            static.to(device),\n",
    "        )\n",
    "        model.zero_grad()\n",
    "        output, h = model(inputs, h, static)\n",
    "        loss = loss_function(output, labels.float())\n",
    "        loss.backward()\n",
    "        nn.utils.clip_grad_norm_(model.parameters(), clip)\n",
    "        optimizer.step()\n",
    "        scheduler.step()\n",
    "\n",
    "        with torch.no_grad():\n",
    "            if k == len(train_loader) - 1 or k == (len(train_loader) - 1) // 2:\n",
    "                val_h = model.init_hidden(batch_size)\n",
    "                val_losses = []\n",
    "                model.eval()\n",
    "                for inp, stat, lab in valid_loader:\n",
    "                    if len(inp) < batch_size:\n",
    "                        val_h = model.init_hidden(len(inp))\n",
    "                    val_h = tuple([each.data for each in val_h])\n",
    "                    inp, lab, stat = inp.to(device), lab.to(device), stat.to(device)\n",
    "                    out, val_h = model(inp, val_h, stat)\n",
    "\n",
    "                    val_loss = loss_function(out, lab.float())\n",
    "                    val_losses.append(val_loss.item())\n",
    "\n",
    "                    model.train()\n",
    "                if np.mean(val_losses) <= valid_loss_min:\n",
    "                    torch.save(model.state_dict(), \"./state_dict.pt\")\n",
    "                    print(\n",
    "                        \"Epoch {} Validation loss decreased ({:.6f} --> {:.6f}).  Saving model ...\".format(\n",
    "                            i, valid_loss_min, np.mean(val_losses)\n",
    "                        )\n",
    "                    )\n",
    "                    valid_loss_min = np.mean(val_losses)\n",
    "                \n",
    "chrono_end = time.time()\n",
    "chrono_time = chrono_end - chrono_start\n",
    "print(f\"Model trained on {epochs} epochs in {round(chrono_time//60)} minutes.\")"
   ]
  },
  {
   "cell_type": "markdown",
   "metadata": {},
   "source": [
    "# Output model's results"
   ]
  },
  {
   "cell_type": "code",
   "execution_count": 7,
   "metadata": {
    "pycharm": {
     "name": "#%%\n"
    },
    "tags": []
   },
   "outputs": [],
   "source": [
    "def predict(x, static=None):\n",
    "    out, _ = model(torch.tensor(x).to(device), val_h, static.to(device))\n",
    "    return out"
   ]
  },
  {
   "cell_type": "code",
   "execution_count": 8,
   "metadata": {
    "pycharm": {
     "name": "#%%\n"
    },
    "tags": []
   },
   "outputs": [
    {
     "data": {
      "application/vnd.jupyter.widget-view+json": {
       "model_id": "6cf15d074bf2452a9b5016e74c1fa93c",
       "version_major": 2,
       "version_minor": 0
      },
      "text/plain": [
       "validation predictions...:   0%|          | 0/68 [00:00<?, ?it/s]"
      ]
     },
     "metadata": {},
     "output_type": "display_data"
    },
    {
     "name": "stderr",
     "output_type": "stream",
     "text": [
      "/home/pierre_counathe/venvDLgcp/lib/python3.7/site-packages/ipykernel_launcher.py:2: UserWarning: To copy construct from a tensor, it is recommended to use sourceTensor.clone().detach() or sourceTensor.clone().detach().requires_grad_(True), rather than torch.tensor(sourceTensor).\n",
      "  \n"
     ]
    }
   ],
   "source": [
    "dict_map = {\n",
    "    \"y_pred\": [],\n",
    "    \"y_pred_rounded\": [],\n",
    "    \"y_true\": [],\n",
    "    \"week\": [],\n",
    "}\n",
    "i = 0\n",
    "for x, static, y in tqdm(\n",
    "    valid_loader,\n",
    "    desc=\"validation predictions...\",\n",
    "):\n",
    "    val_h = tuple([each.data.to(device) for each in model.init_hidden(len(x))])\n",
    "    with torch.no_grad():\n",
    "        pred = predict(x, static).clone().detach()\n",
    "    for w in range(output_weeks):\n",
    "        dict_map[\"y_pred\"] += [float(p[w]) for p in pred]\n",
    "        dict_map[\"y_pred_rounded\"] += [int(p.round()[w]) for p in pred]\n",
    "        dict_map[\"y_true\"] += [float(item[w]) for item in y]\n",
    "        dict_map[\"week\"] += [w] * len(x)\n",
    "    i += len(x)\n",
    "df = pd.DataFrame(dict_map)"
   ]
  },
  {
   "cell_type": "code",
   "execution_count": 9,
   "metadata": {
    "pycharm": {
     "name": "#%%\n"
    },
    "tags": []
   },
   "outputs": [
    {
     "name": "stdout",
     "output_type": "stream",
     "text": [
      "Week 1 MAE 0.126 F1 0.834\n",
      "Week 2 MAE 0.201 F1 0.742\n",
      "Week 3 MAE 0.264 F1 0.659\n",
      "Week 4 MAE 0.318 F1 0.59\n",
      "Week 5 MAE 0.367 F1 0.547\n",
      "Week 6 MAE 0.407 F1 0.531\n",
      "Mean mae : 0.2805 // Mean F1: 0.6505000000000001\n"
     ]
    }
   ],
   "source": [
    "avg_f1 = 0\n",
    "avg_mae = 0\n",
    "for w in range(6):\n",
    "    wdf = df[df['week']==w]\n",
    "    mae = mean_absolute_error(wdf['y_true'], wdf['y_pred']).round(3)\n",
    "    f1 = f1_score(wdf['y_true'].round(),wdf['y_pred'].round(), average='macro').round(3)\n",
    "    print(f\"Week {w+1}\", f\"MAE {mae}\", f\"F1 {f1}\")\n",
    "    avg_f1 += f1\n",
    "    avg_mae += mae\n",
    "avg_f1 /= 6\n",
    "avg_mae /= 6\n",
    "print(f\"Mean mae : {avg_mae} // Mean F1: {avg_f1}\")"
   ]
  },
  {
   "cell_type": "code",
   "execution_count": null,
   "metadata": {
    "pycharm": {
     "name": "#%%\n"
    }
   },
   "outputs": [],
   "source": [
    "true = np.zeros((len(df[df['week']==0]['y_true']), 6))\n",
    "pred = np.zeros((len(df[df['week']==0]['y_pred']), 6))\n",
    "\n",
    "for i in tqdm_notebook(range(len(true))):\n",
    "    true[i] = [df[df['week']==w]['y_true'].reset_index(drop = True).iloc[i] for w in range(6)]\n",
    "    pred[i] = [df[df['week']==w]['y_pred'].reset_index(drop = True).iloc[i] for w in range(6)]\n",
    "\n",
    "process_outputs.summarize(true, pred)"
   ]
  }
 ],
 "metadata": {
  "environment": {
   "kernel": "python3",
   "name": "common-cu113.m91",
   "type": "gcloud",
   "uri": "gcr.io/deeplearning-platform-release/base-cu113:m91"
  },
  "kernelspec": {
   "display_name": "Python 3.7.12 ('venvDLgcp')",
   "language": "python",
   "name": "python3"
  },
  "language_info": {
   "codemirror_mode": {
    "name": "ipython",
    "version": 3
   },
   "file_extension": ".py",
   "mimetype": "text/x-python",
   "name": "python",
   "nbconvert_exporter": "python",
   "pygments_lexer": "ipython3",
   "version": "3.7.12"
  },
  "vscode": {
   "interpreter": {
    "hash": "811e4893dc7ec28dee13a4b3e00ee08df1280258ef69a2d51b8cf2328ab776af"
   }
  }
 },
 "nbformat": 4,
 "nbformat_minor": 4
}
